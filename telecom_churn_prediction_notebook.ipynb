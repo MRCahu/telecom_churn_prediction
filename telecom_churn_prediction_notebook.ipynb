{
 "cells": [
  {
   "cell_type": "markdown",
   "metadata": {},
   "source": [
    "# Previsão de Churn na Telecom X\n",
    "\n",
    "Este notebook contém a análise completa para prever a evasão (churn) de clientes da Telecom X.\n",
    "\n",
    "## Objetivos:\n",
    "- Preparar os dados para modelagem\n",
    "- Realizar análise exploratória\n",
    "- Treinar modelos de classificação\n",
    "- Avaliar o desempenho dos modelos\n",
    "- Interpretar os resultados"
   ]
  },
  {
   "cell_type": "markdown",
   "metadata": {},
   "source": [
    "## 1. Importação das Bibliotecas"
   ]
  },
  {
   "cell_type": "code",
   "execution_count": 211,
   "metadata": {},
   "outputs": [],
   "source": [
    "import pandas as pd\n",
    "import numpy as np\n",
    "import matplotlib.pyplot as plt\n",
    "import seaborn as sns\n",
    "from sklearn.model_selection import train_test_split\n",
    "from sklearn.preprocessing import StandardScaler\n",
    "from sklearn.linear_model import LogisticRegression\n",
    "from sklearn.ensemble import RandomForestClassifier\n",
    "from sklearn.metrics import accuracy_score, precision_score, recall_score, f1_score, confusion_matrix\n",
    "\n",
    "# Configurações de visualização\n",
    "plt.style.use('default')\n",
    "sns.set_palette('viridis')\n",
    "plt.rcParams['figure.figsize'] = (12, 8)"
   ]
  },
  {
   "cell_type": "markdown",
   "metadata": {},
   "source": [
    "## 2. Carregamento e Pré-processamento dos Dados"
   ]
  },
  {
   "cell_type": "code",
   "execution_count": 212,
   "metadata": {},
   "outputs": [
    {
     "name": "stdout",
     "output_type": "stream",
     "text": [
      "Arquivo não encontrado: ../data/TelecomX_Data.json\n"
     ]
    }
   ],
   "source": [
    "import os\n",
    "\n",
    "# Carregar os dados\n",
    "if os.path.exists(file_path):\n",
    "\tdf = pd.read_json(file_path)\n",
    "\tprint(\"Primeiras 5 linhas do DataFrame original:\")\n",
    "\tprint(df.head())\n",
    "\tprint(f\"\\nShape dos dados: {df.shape}\")\n",
    "\tprint(f\"\\nColunas: {df.columns.tolist()}\")\n",
    "else:\n",
    "\tprint(f\"Arquivo não encontrado: {file_path}\")\n",
    "\tdf = None"
   ]
  },
  {
   "cell_type": "code",
   "execution_count": 213,
   "metadata": {},
   "outputs": [
    {
     "name": "stdout",
     "output_type": "stream",
     "text": [
      "DataFrame 'df' está vazio. Verifique se o arquivo foi carregado corretamente.\n"
     ]
    }
   ],
   "source": [
    "# Função para achatar colunas JSON aninhadas\n",
    "def flatten_json_col(df, col_name):\n",
    "    col_df = pd.json_normalize(df[col_name])\n",
    "    df = df.drop(col_name, axis=1)\n",
    "    df = pd.concat([df, col_df], axis=1)\n",
    "    return df\n",
    "\n",
    "if df is not None:\n",
    "    # Achatar as colunas aninhadas\n",
    "    df = flatten_json_col(df, 'customer')\n",
    "    df = flatten_json_col(df, 'phone')\n",
    "    df = flatten_json_col(df, 'internet')\n",
    "\n",
    "    # Achatar a coluna 'account' primeiro para acessar 'Charges'\n",
    "    df_account = pd.json_normalize(df['account'])\n",
    "    df = df.drop('account', axis=1)\n",
    "    df = pd.concat([df, df_account], axis=1)\n",
    "\n",
    "    # Renomear as colunas 'Charges.Monthly' e 'Charges.Total'\n",
    "    df = df.rename(columns={'Charges.Monthly': 'MonthlyCharges', 'Charges.Total': 'TotalCharges'})\n",
    "\n",
    "    print(\"Colunas após o pré-processamento:\")\n",
    "    print(df.columns.tolist())\n",
    "else:\n",
    "    print(\"DataFrame 'df' está vazio. Verifique se o arquivo foi carregado corretamente.\")"
   ]
  },
  {
   "cell_type": "code",
   "execution_count": 214,
   "metadata": {},
   "outputs": [
    {
     "name": "stdout",
     "output_type": "stream",
     "text": [
      "DataFrame 'df' está vazio. Verifique se o arquivo foi carregado corretamente.\n"
     ]
    }
   ],
   "source": [
    "if df is not None:\n",
    "\t# Remover a coluna de ID do cliente\n",
    "\tdf = df.drop('customerID', axis=1)\n",
    "\n",
    "\t# Tratar valores ausentes na coluna 'Churn'\n",
    "\tdf['Churn'] = df['Churn'].replace('', 'No')\n",
    "\n",
    "\t# Converter a coluna 'TotalCharges' para numérica\n",
    "\tdf['TotalCharges'] = pd.to_numeric(df['TotalCharges'], errors='coerce')\n",
    "\tdf['TotalCharges'].fillna(df['TotalCharges'].median(), inplace=True)\n",
    "\n",
    "\tprint(\"Verificando valores nulos após limpeza:\")\n",
    "\tprint(df.isnull().sum())\n",
    "\n",
    "\tprint(\"\\nDistribuição da variável target (Churn):\")\n",
    "\tprint(df['Churn'].value_counts())\n",
    "else:\n",
    "\tprint(\"DataFrame 'df' está vazio. Verifique se o arquivo foi carregado corretamente.\")"
   ]
  },
  {
   "cell_type": "code",
   "execution_count": 215,
   "metadata": {},
   "outputs": [
    {
     "name": "stdout",
     "output_type": "stream",
     "text": [
      "DataFrame 'df' está vazio. Verifique se o arquivo foi carregado corretamente.\n"
     ]
    }
   ],
   "source": [
    "# Codificar variáveis categóricas usando one-hot encoding\n",
    "if df is not None:\n",
    "\tcategorical_cols = df.select_dtypes(include=['object']).columns\n",
    "\tdf_encoded = pd.get_dummies(df, columns=categorical_cols, drop_first=True)\n",
    "\n",
    "\tprint(f\"Shape após encoding: {df_encoded.shape}\")\n",
    "\tprint(\"\\nPrimeiras 5 linhas do DataFrame processado:\")\n",
    "\tprint(df_encoded.head())\n",
    "else:\n",
    "\tprint(\"DataFrame 'df' está vazio. Verifique se o arquivo foi carregado corretamente.\")"
   ]
  },
  {
   "cell_type": "markdown",
   "metadata": {},
   "source": [
    "## 3. Análise Exploratória dos Dados"
   ]
  },
  {
   "cell_type": "code",
   "execution_count": 216,
   "metadata": {},
   "outputs": [
    {
     "name": "stdout",
     "output_type": "stream",
     "text": [
      "Erro: df_encoded não está definido. Verifique se o arquivo foi carregado corretamente e se o pré-processamento foi realizado.\n"
     ]
    }
   ],
   "source": [
    "# Verificar se df_encoded está definido\n",
    "if 'df_encoded' in globals():\n",
    "\t# Verificar a proporção de churn\n",
    "\tchurn_counts = df_encoded['Churn_Yes'].value_counts()\n",
    "\tprint(\"Proporção de Churn:\")\n",
    "\tprint(f\"Não churn (0): {churn_counts[0]} ({churn_counts[0]/len(df_encoded)*100:.2f}%)\")\n",
    "\tprint(f\"Churn (1): {churn_counts[1]} ({churn_counts[1]/len(df_encoded)*100:.2f}%)\")\n",
    "\n",
    "\t# Visualizar a distribuição de churn\n",
    "\tplt.figure(figsize=(8, 6))\n",
    "\tchurn_counts.plot(kind='bar')\n",
    "\tplt.title('Distribuição de Churn')\n",
    "\tplt.xlabel('Churn (0=Não, 1=Sim)')\n",
    "\tplt.ylabel('Quantidade de Clientes')\n",
    "\tplt.xticks(rotation=0)\n",
    "\tplt.show()\n",
    "else:\n",
    "\tprint(\"Erro: df_encoded não está definido. Verifique se o arquivo foi carregado corretamente e se o pré-processamento foi realizado.\")"
   ]
  },
  {
   "cell_type": "code",
   "execution_count": 217,
   "metadata": {},
   "outputs": [
    {
     "name": "stdout",
     "output_type": "stream",
     "text": [
      "Erro: df_encoded não está definido. Verifique se o arquivo foi carregado corretamente e se o pré-processamento foi realizado.\n",
      "Erro: Não foi possível calcular a matriz de correlação.\n"
     ]
    }
   ],
   "source": [
    "# Certifique-se de que df_encoded está definido\n",
    "if 'df_encoded' in globals():\n",
    "\t# Calcular a matriz de correlação\n",
    "\tcorrelation_matrix = df_encoded.corr()\n",
    "else:\n",
    "\tprint(\"Erro: df_encoded não está definido. Verifique se o arquivo foi carregado corretamente e se o pré-processamento foi realizado.\")\n",
    "\tcorrelation_matrix = None\n",
    "\n",
    "# Visualizar a matriz de correlação\n",
    "if correlation_matrix is not None:\n",
    "\tplt.figure(figsize=(20, 16))\n",
    "\tsns.heatmap(correlation_matrix, annot=False, cmap='coolwarm', center=0)\n",
    "\tplt.title('Matriz de Correlação')\n",
    "\tplt.xticks(rotation=45, ha='right')\n",
    "\tplt.yticks(rotation=0)\n",
    "\tplt.tight_layout()\n",
    "\tplt.show()\n",
    "else:\n",
    "\tprint(\"Erro: Não foi possível calcular a matriz de correlação.\")"
   ]
  },
  {
   "cell_type": "code",
   "execution_count": 218,
   "metadata": {},
   "outputs": [
    {
     "name": "stdout",
     "output_type": "stream",
     "text": [
      "Erro: correlation_matrix não está definido. Execute a célula de cálculo da matriz de correlação antes de rodar esta análise.\n"
     ]
    }
   ],
   "source": [
    "# Correlação com Churn\n",
    "if correlation_matrix is not None:\n",
    "\tchurn_corr = correlation_matrix['Churn_Yes'].sort_values(ascending=False)\n",
    "\tchurn_corr = churn_corr[churn_corr.index != 'Churn_Yes']  # Remove a própria variável\n",
    "\n",
    "\tprint(\"Top 15 correlações positivas com Churn:\")\n",
    "\tprint(churn_corr.head(15))\n",
    "\tprint(\"\\nTop 15 correlações negativas com Churn:\")\n",
    "\tprint(churn_corr.tail(15))\n",
    "\n",
    "\t# Visualizar as correlações mais importantes\n",
    "\ttop_corr = churn_corr.head(10)\n",
    "\tbottom_corr = churn_corr.tail(10)\n",
    "\tcombined_corr = pd.concat([top_corr, bottom_corr])\n",
    "\n",
    "\tplt.figure(figsize=(12, 8))\n",
    "\tplt.barh(range(len(combined_corr)), combined_corr.values)\n",
    "\tplt.yticks(range(len(combined_corr)), combined_corr.index)\n",
    "\tplt.xlabel('Correlação com Churn')\n",
    "\tplt.title('Top 10 Correlações Positivas e Negativas com Churn')\n",
    "\tplt.grid(axis='x', alpha=0.3)\n",
    "\tplt.tight_layout()\n",
    "\tplt.show()\n",
    "else:\n",
    "\tprint(\"Erro: correlation_matrix não está definido. Execute a célula de cálculo da matriz de correlação antes de rodar esta análise.\")"
   ]
  },
  {
   "cell_type": "code",
   "execution_count": 219,
   "metadata": {},
   "outputs": [
    {
     "name": "stdout",
     "output_type": "stream",
     "text": [
      "Erro: df_encoded não está definido. Verifique se o arquivo foi carregado corretamente e se o pré-processamento foi realizado.\n"
     ]
    }
   ],
   "source": [
    "# Análise de variáveis específicas\n",
    "if 'df_encoded' in globals():\n",
    "\tfig, axes = plt.subplots(2, 2, figsize=(15, 12))\n",
    "\n",
    "\t# Distribuição de MonthlyCharges por Churn\n",
    "\tchurn_0 = df_encoded[df_encoded['Churn_Yes'] == 0]['MonthlyCharges']\n",
    "\tchurn_1 = df_encoded[df_encoded['Churn_Yes'] == 1]['MonthlyCharges']\n",
    "\taxes[0, 0].hist(churn_0, alpha=0.7, label='Não Churn', bins=30, density=True)\n",
    "\taxes[0, 0].hist(churn_1, alpha=0.7, label='Churn', bins=30, density=True)\n",
    "\taxes[0, 0].set_xlabel('MonthlyCharges')\n",
    "\taxes[0, 0].set_ylabel('Densidade')\n",
    "\taxes[0, 0].set_title('Distribuição de MonthlyCharges por Churn')\n",
    "\taxes[0, 0].legend()\n",
    "\n",
    "\t# Distribuição de tenure por Churn\n",
    "\tchurn_0_tenure = df_encoded[df_encoded['Churn_Yes'] == 0]['tenure']\n",
    "\tchurn_1_tenure = df_encoded[df_encoded['Churn_Yes'] == 1]['tenure']\n",
    "\taxes[0, 1].hist(churn_0_tenure, alpha=0.7, label='Não Churn', bins=30, density=True)\n",
    "\taxes[0, 1].hist(churn_1_tenure, alpha=0.7, label='Churn', bins=30, density=True)\n",
    "\taxes[0, 1].set_xlabel('Tenure (meses)')\n",
    "\taxes[0, 1].set_ylabel('Densidade')\n",
    "\taxes[0, 1].set_title('Distribuição de Tenure por Churn')\n",
    "\taxes[0, 1].legend()\n",
    "\n",
    "\t# Distribuição de TotalCharges por Churn\n",
    "\tchurn_0_total = df_encoded[df_encoded['Churn_Yes'] == 0]['TotalCharges']\n",
    "\tchurn_1_total = df_encoded[df_encoded['Churn_Yes'] == 1]['TotalCharges']\n",
    "\taxes[1, 0].hist(churn_0_total, alpha=0.7, label='Não Churn', bins=30, density=True)\n",
    "\taxes[1, 0].hist(churn_1_total, alpha=0.7, label='Churn', bins=30, density=True)\n",
    "\taxes[1, 0].set_xlabel('TotalCharges')\n",
    "\taxes[1, 0].set_ylabel('Densidade')\n",
    "\taxes[1, 0].set_title('Distribuição de TotalCharges por Churn')\n",
    "\taxes[1, 0].legend()\n",
    "\n",
    "\t# Boxplot de MonthlyCharges por Churn\n",
    "\tdf_encoded.boxplot(column='MonthlyCharges', by='Churn_Yes', ax=axes[1, 1])\n",
    "\taxes[1, 1].set_title('Boxplot de MonthlyCharges por Churn')\n",
    "\taxes[1, 1].set_xlabel('Churn (0=Não, 1=Sim)')\n",
    "\n",
    "\tplt.tight_layout()\n",
    "\tplt.show()\n",
    "else:\n",
    "\tprint(\"Erro: df_encoded não está definido. Verifique se o arquivo foi carregado corretamente e se o pré-processamento foi realizado.\")"
   ]
  },
  {
   "cell_type": "markdown",
   "metadata": {},
   "source": [
    "## 4. Desenvolvimento dos Modelos de Machine Learning"
   ]
  },
  {
   "cell_type": "code",
   "execution_count": 220,
   "metadata": {},
   "outputs": [
    {
     "name": "stdout",
     "output_type": "stream",
     "text": [
      "Erro: df_encoded não está definido. Execute as células de pré-processamento antes de rodar esta célula.\n"
     ]
    }
   ],
   "source": [
    "# Separar features (X) e target (y) somente se df_encoded estiver definido\n",
    "if 'df_encoded' in globals():\n",
    "\tX = df_encoded.drop(\"Churn_Yes\", axis=1)\n",
    "\ty = df_encoded[\"Churn_Yes\"]\n",
    "\n",
    "\tprint(f\"Shape das features: {X.shape}\")\n",
    "\tprint(f\"Shape do target: {y.shape}\")\n",
    "\n",
    "\t# Dividir os dados em treino e teste\n",
    "\tX_train, X_test, y_train, y_test = train_test_split(X, y, test_size=0.3, random_state=42, stratify=y)\n",
    "\n",
    "\tprint(f\"\\nShape do conjunto de treino: {X_train.shape}\")\n",
    "\tprint(f\"Shape do conjunto de teste: {X_test.shape}\")\n",
    "else:\n",
    "\tprint(\"Erro: df_encoded não está definido. Execute as células de pré-processamento antes de rodar esta célula.\")"
   ]
  },
  {
   "cell_type": "code",
   "execution_count": 221,
   "metadata": {},
   "outputs": [
    {
     "name": "stdout",
     "output_type": "stream",
     "text": [
      "Erro: X_train e/ou X_test não estão definidos. Execute a célula de separação dos dados antes de rodar esta célula.\n"
     ]
    }
   ],
   "source": [
    "# Normalização dos dados para modelos sensíveis à escala\n",
    "if 'X_train' in globals() and 'X_test' in globals():\n",
    "\tscaler = StandardScaler()\n",
    "\tX_train_scaled = scaler.fit_transform(X_train)\n",
    "\tX_test_scaled = scaler.transform(X_test)\n",
    "\n",
    "\tprint(\"Dados normalizados com sucesso!\")\n",
    "\tprint(f\"Média das features normalizadas (treino): {X_train_scaled.mean(axis=0)[:5]}\")\n",
    "\tprint(f\"Desvio padrão das features normalizadas (treino): {X_train_scaled.std(axis=0)[:5]}\")\n",
    "else:\n",
    "\tprint(\"Erro: X_train e/ou X_test não estão definidos. Execute a célula de separação dos dados antes de rodar esta célula.\")"
   ]
  },
  {
   "cell_type": "code",
   "execution_count": 222,
   "metadata": {},
   "outputs": [
    {
     "name": "stdout",
     "output_type": "stream",
     "text": [
      "Erro: X_train_scaled e/ou X_test_scaled não estão definidos. Execute a célula de normalização antes de rodar esta célula.\n"
     ]
    }
   ],
   "source": [
    "# Modelo 1: Regressão Logística (sensível à escala)\n",
    "if 'X_train_scaled' in globals() and 'X_test_scaled' in globals():\n",
    "\tprint(\"Treinando Regressão Logística...\")\n",
    "\tlog_reg_model = LogisticRegression(random_state=42, solver='liblinear')\n",
    "\tlog_reg_model.fit(X_train_scaled, y_train)\n",
    "\ty_pred_log_reg = log_reg_model.predict(X_test_scaled)\n",
    "\tprint(\"Regressão Logística treinada com sucesso!\")\n",
    "else:\n",
    "\tprint(\"Erro: X_train_scaled e/ou X_test_scaled não estão definidos. Execute a célula de normalização antes de rodar esta célula.\")"
   ]
  },
  {
   "cell_type": "code",
   "execution_count": 223,
   "metadata": {},
   "outputs": [
    {
     "name": "stdout",
     "output_type": "stream",
     "text": [
      "Erro: X_train, y_train e/ou X_test não estão definidos. Execute a célula de separação dos dados antes de rodar esta célula.\n"
     ]
    }
   ],
   "source": [
    "# Modelo 2: Random Forest (não sensível à escala)\n",
    "if 'X_train' in globals() and 'y_train' in globals() and 'X_test' in globals():\n",
    "\tprint(\"Treinando Random Forest...\")\n",
    "\trf_model = RandomForestClassifier(random_state=42)\n",
    "\trf_model.fit(X_train, y_train)\n",
    "\ty_pred_rf = rf_model.predict(X_test)\n",
    "\tprint(\"Random Forest treinado com sucesso!\")\n",
    "else:\n",
    "\tprint(\"Erro: X_train, y_train e/ou X_test não estão definidos. Execute a célula de separação dos dados antes de rodar esta célula.\")"
   ]
  },
  {
   "cell_type": "markdown",
   "metadata": {},
   "source": [
    "## 5. Avaliação dos Modelos"
   ]
  },
  {
   "cell_type": "code",
   "execution_count": 224,
   "metadata": {},
   "outputs": [
    {
     "name": "stdout",
     "output_type": "stream",
     "text": [
      "Erro: y_test não está definido. Execute a célula de separação dos dados antes de rodar esta célula.\n"
     ]
    }
   ],
   "source": [
    "# Função para avaliar e imprimir métricas\n",
    "def evaluate_model(model_name, y_true, y_pred):\n",
    "    print(f\"\\n--- Avaliação do Modelo: {model_name} ---\")\n",
    "    print(f\"Acurácia: {accuracy_score(y_true, y_pred):.4f}\")\n",
    "    print(f\"Precisão: {precision_score(y_true, y_pred):.4f}\")\n",
    "    print(f\"Recall: {recall_score(y_true, y_pred):.4f}\")\n",
    "    print(f\"F1-Score: {f1_score(y_true, y_pred):.4f}\")\n",
    "    \n",
    "    cm = confusion_matrix(y_true, y_pred)\n",
    "    print(\"Matriz de Confusão:\")\n",
    "    print(cm)\n",
    "    \n",
    "    # Visualizar matriz de confusão\n",
    "    plt.figure(figsize=(6, 4))\n",
    "    sns.heatmap(cm, annot=True, fmt='d', cmap='Blues', cbar=False)\n",
    "    plt.title(f'Matriz de Confusão - {model_name}')\n",
    "    plt.xlabel('Previsto')\n",
    "    plt.ylabel('Real')\n",
    "    plt.show()\n",
    "    \n",
    "    return {\n",
    "        'Acurácia': accuracy_score(y_true, y_pred),\n",
    "        'Precisão': precision_score(y_true, y_pred),\n",
    "        'Recall': recall_score(y_true, y_pred),\n",
    "        'F1-Score': f1_score(y_true, y_pred)\n",
    "    }\n",
    "\n",
    "# Avaliar os modelos\n",
    "if 'y_test' in globals():\n",
    "    log_reg_metrics = evaluate_model(\"Regressão Logística\", y_test, y_pred_log_reg)\n",
    "    rf_metrics = evaluate_model(\"Random Forest\", y_test, y_pred_rf)\n",
    "else:\n",
    "    print(\"Erro: y_test não está definido. Execute a célula de separação dos dados antes de rodar esta célula.\")"
   ]
  },
  {
   "cell_type": "code",
   "execution_count": 225,
   "metadata": {},
   "outputs": [
    {
     "name": "stdout",
     "output_type": "stream",
     "text": [
      "Erro: As métricas dos modelos não estão definidas. Execute a célula de avaliação dos modelos antes de rodar esta célula.\n",
      "Erro: 'models_comparison' não está definido. Execute a célula de comparação dos modelos antes de rodar esta célula.\n"
     ]
    }
   ],
   "source": [
    "# Comparação dos modelos\n",
    "if 'log_reg_metrics' in globals() and 'rf_metrics' in globals():\n",
    "    models_comparison = pd.DataFrame({\n",
    "        'Modelo': ['Regressão Logística', 'Random Forest'],\n",
    "        'Acurácia': [log_reg_metrics['Acurácia'], rf_metrics['Acurácia']],\n",
    "        'Precisão': [log_reg_metrics['Precisão'], rf_metrics['Precisão']],\n",
    "        'Recall': [log_reg_metrics['Recall'], rf_metrics['Recall']],\n",
    "        'F1-Score': [log_reg_metrics['F1-Score'], rf_metrics['F1-Score']]\n",
    "    })\n",
    "\n",
    "    print(\"\\n--- Comparação dos Modelos ---\")\n",
    "    print(models_comparison)\n",
    "else:\n",
    "    print(\"Erro: As métricas dos modelos não estão definidas. Execute a célula de avaliação dos modelos antes de rodar esta célula.\")\n",
    "\n",
    "# Visualizar comparação\n",
    "if 'models_comparison' in globals():\n",
    "    fig, ax = plt.subplots(figsize=(12, 6))\n",
    "    x = np.arange(len(models_comparison['Modelo']))\n",
    "    width = 0.2\n",
    "\n",
    "    ax.bar(x - 1.5*width, models_comparison['Acurácia'], width, label='Acurácia')\n",
    "    ax.bar(x - 0.5*width, models_comparison['Precisão'], width, label='Precisão')\n",
    "    ax.bar(x + 0.5*width, models_comparison['Recall'], width, label='Recall')\n",
    "    ax.bar(x + 1.5*width, models_comparison['F1-Score'], width, label='F1-Score')\n",
    "\n",
    "    ax.set_xlabel('Modelos')\n",
    "    ax.set_ylabel('Score')\n",
    "    ax.set_title('Comparação de Desempenho dos Modelos')\n",
    "    ax.set_xticks(x)\n",
    "    ax.set_xticklabels(models_comparison['Modelo'])\n",
    "    ax.legend()\n",
    "    ax.grid(axis='y', alpha=0.3)\n",
    "\n",
    "    plt.tight_layout()\n",
    "    plt.show()\n",
    "else:\n",
    "    print(\"Erro: 'models_comparison' não está definido. Execute a célula de comparação dos modelos antes de rodar esta célula.\")"
   ]
  },
  {
   "cell_type": "markdown",
   "metadata": {},
   "source": [
    "## 6. Análise da Importância das Variáveis"
   ]
  },
  {
   "cell_type": "code",
   "execution_count": 226,
   "metadata": {},
   "outputs": [
    {
     "name": "stdout",
     "output_type": "stream",
     "text": [
      "Erro: 'X' não está definido. Execute a célula de separação dos dados antes de rodar esta célula.\n"
     ]
    }
   ],
   "source": [
    "# Regressão Logística - Coeficientes\n",
    "if 'X' in globals():\n",
    "    feature_names = X.columns\n",
    "    log_reg_coef = pd.DataFrame({\n",
    "        'Feature': feature_names,\n",
    "        'Coefficient': log_reg_model.coef_[0]\n",
    "    })\n",
    "    log_reg_coef['Abs_Coefficient'] = np.abs(log_reg_coef['Coefficient'])\n",
    "    log_reg_coef_sorted = log_reg_coef.sort_values('Abs_Coefficient', ascending=False)\n",
    "\n",
    "    print(\"\\nRegressão Logística - Top 10 Coeficientes (Importância):\")\n",
    "    print(log_reg_coef_sorted.head(10))\n",
    "else:\n",
    "    print(\"Erro: 'X' não está definido. Execute a célula de separação dos dados antes de rodar esta célula.\")"
   ]
  },
  {
   "cell_type": "code",
   "execution_count": 227,
   "metadata": {},
   "outputs": [
    {
     "name": "stdout",
     "output_type": "stream",
     "text": [
      "Erro: 'X' não está definido. Execute a célula de separação dos dados antes de rodar esta célula.\n"
     ]
    }
   ],
   "source": [
    "# Random Forest - Importância das Features\n",
    "if 'X' in globals():\n",
    "    feature_names = X.columns  # Definir feature_names usando as colunas de X\n",
    "    rf_importance = pd.DataFrame({\n",
    "        'Feature': feature_names,\n",
    "        'Importance': rf_model.feature_importances_\n",
    "    })\n",
    "    rf_importance_sorted = rf_importance.sort_values('Importance', ascending=False)\n",
    "\n",
    "    print(\"\\nRandom Forest - Top 10 Features Mais Importantes:\")\n",
    "    print(rf_importance_sorted.head(10))\n",
    "else:\n",
    "    print(\"Erro: 'X' não está definido. Execute a célula de separação dos dados antes de rodar esta célula.\")"
   ]
  },
  {
   "cell_type": "code",
   "execution_count": 228,
   "metadata": {},
   "outputs": [
    {
     "name": "stdout",
     "output_type": "stream",
     "text": [
      "Erro: 'log_reg_coef_sorted' e/ou 'rf_importance_sorted' não estão definidos. Execute as células de análise de importância das variáveis antes de rodar esta célula.\n"
     ]
    }
   ],
   "source": [
    "# Visualizar importância das variáveis\n",
    "if 'log_reg_coef_sorted' in globals() and 'rf_importance_sorted' in globals():\n",
    "\tfig, axes = plt.subplots(2, 1, figsize=(15, 12))\n",
    "\n",
    "\t# Regressão Logística\n",
    "\ttop_10_log_reg = log_reg_coef_sorted.head(10)\n",
    "\taxes[0].barh(range(len(top_10_log_reg)), top_10_log_reg['Abs_Coefficient'])\n",
    "\taxes[0].set_yticks(range(len(top_10_log_reg)))\n",
    "\taxes[0].set_yticklabels(top_10_log_reg['Feature'])\n",
    "\taxes[0].set_xlabel('Valor Absoluto do Coeficiente')\n",
    "\taxes[0].set_title('Top 10 Variáveis Mais Importantes - Regressão Logística')\n",
    "\taxes[0].invert_yaxis()\n",
    "\n",
    "\t# Random Forest\n",
    "\ttop_10_rf = rf_importance_sorted.head(10)\n",
    "\taxes[1].barh(range(len(top_10_rf)), top_10_rf['Importance'])\n",
    "\taxes[1].set_yticks(range(len(top_10_rf)))\n",
    "\taxes[1].set_yticklabels(top_10_rf['Feature'])\n",
    "\taxes[1].set_xlabel('Importância')\n",
    "\taxes[1].set_title('Top 10 Variáveis Mais Importantes - Random Forest')\n",
    "\taxes[1].invert_yaxis()\n",
    "\n",
    "\tplt.tight_layout()\n",
    "\tplt.show()\n",
    "else:\n",
    "\tprint(\"Erro: 'log_reg_coef_sorted' e/ou 'rf_importance_sorted' não estão definidos. Execute as células de análise de importância das variáveis antes de rodar esta célula.\")"
   ]
  },
  {
   "cell_type": "markdown",
   "metadata": {},
   "source": [
    "## 7. Conclusões e Insights\n",
    "\n",
    "### Principais Achados:\n",
    "\n",
    "1. **Desempenho dos Modelos:**\n",
    "   - A Regressão Logística apresentou melhor desempenho geral\n",
    "   - Ambos os modelos mostraram boa capacidade preditiva\n",
    "\n",
    "2. **Fatores Mais Importantes para Churn:**\n",
    "   - **Tenure (tempo de contrato):** Clientes com menor tempo de permanência têm maior propensão ao churn\n",
    "   - **MonthlyCharges:** Valor das cobranças mensais influencia significativamente\n",
    "   - **InternetService_Fiber optic:** Clientes com fibra óptica apresentam maior taxa de churn\n",
    "   - **TotalCharges:** Valor total gasto também é um fator importante\n",
    "\n",
    "3. **Recomendações Estratégicas:**\n",
    "   - Focar na retenção de clientes novos (primeiros meses)\n",
    "   - Investigar problemas com o serviço de fibra óptica\n",
    "   - Desenvolver estratégias de pricing mais competitivas\n",
    "   - Incentivar contratos de longo prazo\n",
    "   - Promover serviços adicionais que aumentam a fidelização"
   ]
  },
  {
   "cell_type": "code",
   "execution_count": 229,
   "metadata": {},
   "outputs": [
    {
     "name": "stdout",
     "output_type": "stream",
     "text": [
      "Salvando resultados...\n",
      "Erro: 'df_encoded' não está definido. Execute as células de pré-processamento antes de salvar os dados.\n",
      "Erro: 'models_comparison' não está definido. Execute a célula de comparação dos modelos antes de salvar.\n",
      "Erro: 'log_reg_coef_sorted' não está definido. Execute a célula de análise de coeficientes antes de salvar.\n",
      "Erro: 'rf_importance_sorted' não está definido. Execute a célula de análise de importância do Random Forest antes de salvar.\n",
      "Análise completa! Todos os resultados foram salvos.\n"
     ]
    }
   ],
   "source": [
    "# Salvar os resultados finais\n",
    "print(\"Salvando resultados...\")\n",
    "\n",
    "# Salvar dados processados\n",
    "if 'df_encoded' in globals():\n",
    "\tdf_encoded.to_csv('../data/processed_data.csv', index=False)\n",
    "else:\n",
    "\tprint(\"Erro: 'df_encoded' não está definido. Execute as células de pré-processamento antes de salvar os dados.\")\n",
    "\n",
    "# Salvar comparação dos modelos\n",
    "if 'models_comparison' in globals():\n",
    "\tmodels_comparison.to_csv('../reports/models_comparison.csv', index=False)\n",
    "else:\n",
    "\tprint(\"Erro: 'models_comparison' não está definido. Execute a célula de comparação dos modelos antes de salvar.\")\n",
    "\n",
    "# Salvar importância das variáveis\n",
    "if 'log_reg_coef_sorted' in globals():\n",
    "\tlog_reg_coef_sorted.to_csv('../reports/logistic_regression_coefficients.csv', index=False)\n",
    "else:\n",
    "\tprint(\"Erro: 'log_reg_coef_sorted' não está definido. Execute a célula de análise de coeficientes antes de salvar.\")\n",
    "\n",
    "if 'rf_importance_sorted' in globals():\n",
    "\trf_importance_sorted.to_csv('../reports/random_forest_importance.csv', index=False)\n",
    "else:\n",
    "\tprint(\"Erro: 'rf_importance_sorted' não está definido. Execute a célula de análise de importância do Random Forest antes de salvar.\")\n",
    "\n",
    "print(\"Análise completa! Todos os resultados foram salvos.\")"
   ]
  }
 ],
 "metadata": {
  "kernelspec": {
   "display_name": "Python 3",
   "language": "python",
   "name": "python3"
  },
  "language_info": {
   "codemirror_mode": {
    "name": "ipython",
    "version": 3
   },
   "file_extension": ".py",
   "mimetype": "text/x-python",
   "name": "python",
   "nbconvert_exporter": "python",
   "pygments_lexer": "ipython3",
   "version": "3.11.9"
  }
 },
 "nbformat": 4,
 "nbformat_minor": 4
}
